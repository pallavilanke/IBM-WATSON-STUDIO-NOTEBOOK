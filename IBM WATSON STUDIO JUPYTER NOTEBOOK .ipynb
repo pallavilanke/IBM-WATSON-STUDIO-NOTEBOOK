{
    "cells": [
        {
            "metadata": {
                "collapsed": true
            },
            "cell_type": "markdown",
            "source": "<h1>My Jupyter Notebook on IBM Watson Studio<h1>"
        },
        {
            "metadata": {},
            "cell_type": "markdown",
            "source": "<b>LANKE PALLAVI<b><br>research"
        },
        {
            "metadata": {},
            "cell_type": "markdown",
            "source": "<i>I am interested in data science because I am doing my research on that domain</i>"
        },
        {
            "metadata": {},
            "cell_type": "markdown",
            "source": "this program will find the factorial of a given number "
        },
        {
            "metadata": {},
            "cell_type": "code",
            "source": "def fact(n):\n    f=1\n    if(n==0):\n        return f\n    else:\n        for i in range(1,n+1,1):\n            f=f*i\n        return f\nx=3\nprint('Factorial of {} is {}'.format(x,fact(x)))",
            "execution_count": 4,
            "outputs": [
                {
                    "output_type": "stream",
                    "text": "Factorial of 3 is 6\n",
                    "name": "stdout"
                }
            ]
        },
        {
            "metadata": {},
            "cell_type": "markdown",
            "source": " <hr style=\"height:2px;border-width:0;color:gray;background-color:gray\"> "
        },
        {
            "metadata": {},
            "cell_type": "markdown",
            "source": "<h3> HTML LIST DEMO </h3>\n\n <ul>\n  <li>Coffee</li>\n  <li>Tea</li>\n  <li>Milk</li>\n</ul> \n\n<ol>\n  <li>Coffee</li>\n  <li>Tea</li>\n  <li>Milk</li>\n</ol>\n\n<hr style=\"width:50%;text-align:left;margin-left:0\"> \n \n<h3> HTML TABLE DEMO </h3>\n\n<table style=\"width:100%\">\n  <tr>\n    <th>Firstname</th>\n    <th>Lastname</th>\n    <th>Age</th>\n  </tr>\n  <tr>\n    <td>Jill</td>\n    <td>Smith</td>\n    <td>50</td>\n  </tr>\n  <tr>\n    <td>Eve</td>\n    <td>Jackson</td>\n    <td>94</td>\n  </tr>\n</table> \n\n<hr style=\"width:50%;text-align:left;margin-left:0\"> \n\n<h3> HTML LINKS DEMO </h3>\n\n<a href=\"https://www.w3schools.com/html/\">Visit our HTML tutorial</a> "
        }
    ],
    "metadata": {
        "kernelspec": {
            "name": "python3",
            "display_name": "Python 3.6",
            "language": "python"
        },
        "language_info": {
            "name": "python",
            "version": "3.6.9",
            "mimetype": "text/x-python",
            "codemirror_mode": {
                "name": "ipython",
                "version": 3
            },
            "pygments_lexer": "ipython3",
            "nbconvert_exporter": "python",
            "file_extension": ".py"
        }
    },
    "nbformat": 4,
    "nbformat_minor": 1
}